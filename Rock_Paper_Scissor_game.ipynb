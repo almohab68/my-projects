{
 "cells": [
  {
   "cell_type": "code",
   "execution_count": 1,
   "metadata": {},
   "outputs": [
    {
     "name": "stdout",
     "output_type": "stream",
     "text": [
      "\n",
      "\n",
      "░██╗░░░░░░░██╗███████╗██╗░░░░░░█████╗░░█████╗░███╗░░░███╗███████╗  ██╗███╗░░██╗  \n",
      "░██║░░██╗░░██║██╔════╝██║░░░░░██╔══██╗██╔══██╗████╗░████║██╔════╝  ██║████╗░██║  \n",
      "░╚██╗████╗██╔╝█████╗░░██║░░░░░██║░░╚═╝██║░░██║██╔████╔██║█████╗░░  ██║██╔██╗██║  \n",
      "░░████╔═████║░██╔══╝░░██║░░░░░██║░░██╗██║░░██║██║╚██╔╝██║██╔══╝░░  ██║██║╚████║  \n",
      "░░╚██╔╝░╚██╔╝░███████╗███████╗╚█████╔╝╚█████╔╝██║░╚═╝░██║███████╗  ██║██║░╚███║  \n",
      "░░░╚═╝░░░╚═╝░░╚══════╝╚══════╝░╚════╝░░╚════╝░╚═╝░░░░░╚═╝╚══════╝  ╚═╝╚═╝░░╚══╝  \n",
      "\n",
      "░█████╗░██╗░░░██╗██████╗░  ░██████╗░░█████╗░███╗░░░███╗███████╗\n",
      "██╔══██╗██║░░░██║██╔══██╗  ██╔════╝░██╔══██╗████╗░████║██╔════╝\n",
      "██║░░██║██║░░░██║██████╔╝  ██║░░██╗░███████║██╔████╔██║█████╗░░\n",
      "██║░░██║██║░░░██║██╔══██╗  ██║░░╚██╗██╔══██║██║╚██╔╝██║██╔══╝░░\n",
      "╚█████╔╝╚██████╔╝██║░░██║  ╚██████╔╝██║░░██║██║░╚═╝░██║███████╗\n",
      "░╚════╝░░╚═════╝░╚═╝░░╚═╝  ░╚═════╝░╚═╝░░╚═╝╚═╝░░░░░╚═╝╚══════╝\n",
      "\n",
      "Try Again, It's rock 💣 for a rock 💣\n",
      "You Win!,📃 How did you know I get a rock?!💣 \n",
      "Try Again, It's scissor ✄ for another ✄ \n",
      "Wrong choice!, you should choose rock or paper or scissor\n"
     ]
    }
   ],
   "source": [
    "print('''\n",
    "\n",
    "░██╗░░░░░░░██╗███████╗██╗░░░░░░█████╗░░█████╗░███╗░░░███╗███████╗  ██╗███╗░░██╗  \n",
    "░██║░░██╗░░██║██╔════╝██║░░░░░██╔══██╗██╔══██╗████╗░████║██╔════╝  ██║████╗░██║  \n",
    "░╚██╗████╗██╔╝█████╗░░██║░░░░░██║░░╚═╝██║░░██║██╔████╔██║█████╗░░  ██║██╔██╗██║  \n",
    "░░████╔═████║░██╔══╝░░██║░░░░░██║░░██╗██║░░██║██║╚██╔╝██║██╔══╝░░  ██║██║╚████║  \n",
    "░░╚██╔╝░╚██╔╝░███████╗███████╗╚█████╔╝╚█████╔╝██║░╚═╝░██║███████╗  ██║██║░╚███║  \n",
    "░░░╚═╝░░░╚═╝░░╚══════╝╚══════╝░╚════╝░░╚════╝░╚═╝░░░░░╚═╝╚══════╝  ╚═╝╚═╝░░╚══╝  \n",
    "\n",
    "░█████╗░██╗░░░██╗██████╗░  ░██████╗░░█████╗░███╗░░░███╗███████╗\n",
    "██╔══██╗██║░░░██║██╔══██╗  ██╔════╝░██╔══██╗████╗░████║██╔════╝\n",
    "██║░░██║██║░░░██║██████╔╝  ██║░░██╗░███████║██╔████╔██║█████╗░░\n",
    "██║░░██║██║░░░██║██╔══██╗  ██║░░╚██╗██╔══██║██║╚██╔╝██║██╔══╝░░\n",
    "╚█████╔╝╚██████╔╝██║░░██║  ╚██████╔╝██║░░██║██║░╚═╝░██║███████╗\n",
    "░╚════╝░░╚═════╝░╚═╝░░╚═╝  ░╚═════╝░╚═╝░░╚═╝╚═╝░░░░░╚═╝╚══════╝\n",
    "''')\n",
    "\n",
    "while True:\n",
    "    import random\n",
    "    random_guess=random.randint(1,3)\n",
    "    if random_guess==1:\n",
    "        random_guess='paper'\n",
    "    elif random_guess==2:\n",
    "        random_guess= 'scissor'\n",
    "    else:\n",
    "        random_guess= 'rock'\n",
    "\n",
    "    choice=input('Choose from [Rock,Paper,Scissor]').lower()\n",
    "\n",
    "    if choice == 'rock' and random_guess=='scissor':\n",
    "        print('You Win!, rock 💣 beats scissor ✄')\n",
    "    elif choice == 'rock'and random_guess=='rock':\n",
    "        print('Try Again, It\\'s rock 💣 for a rock 💣')\n",
    "    elif  choice == 'rock' and random_guess=='paper':\n",
    "        print('You lose, HaHa paper 📃 covers your rock! 💣 Try again')\n",
    "\n",
    "    elif choice == 'paper' and random_guess=='scissor':\n",
    "        print('You lose, scissor ✄ cuts your paper 📃! Try again')\n",
    "    elif choice == 'paper' and random_guess=='paper':\n",
    "            print('Try Again, It\\'s paper 📃 for paper 📃')\n",
    "    elif choice == 'paper' and random_guess=='rock':\n",
    "        print('You Win!,📃 How did you know I get a rock?!💣 ')\n",
    "\n",
    "    elif choice == 'scissor' and random_guess=='rock':\n",
    "        print('You lose, My rock 💣 breaks your scissor ✄! Try again')\n",
    "    elif choice == 'scissor' and random_guess=='scissor':\n",
    "            print('Try Again, It\\'s scissor ✄ for another ✄ ')\n",
    "    elif choice == 'scissor' and random_guess=='paper':\n",
    "        print('Damn you Win! ✄ 📃')\n",
    "    else:\n",
    "         print('Wrong choice!, you should choose rock or paper or scissor')\n",
    "\n",
    "    exit=input('If you want to Exit press[Q]').lower()\n",
    "    if exit=='q':\n",
    "         break\n",
    "    else:\n",
    "         continue"
   ]
  },
  {
   "cell_type": "code",
   "execution_count": null,
   "metadata": {},
   "outputs": [],
   "source": []
  }
 ],
 "metadata": {
  "kernelspec": {
   "display_name": "Python 3",
   "language": "python",
   "name": "python3"
  },
  "language_info": {
   "codemirror_mode": {
    "name": "ipython",
    "version": 3
   },
   "file_extension": ".py",
   "mimetype": "text/x-python",
   "name": "python",
   "nbconvert_exporter": "python",
   "pygments_lexer": "ipython3",
   "version": "3.10.11"
  }
 },
 "nbformat": 4,
 "nbformat_minor": 2
}
