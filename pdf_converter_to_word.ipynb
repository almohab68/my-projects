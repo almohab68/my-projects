{
 "cells": [
  {
   "cell_type": "code",
   "execution_count": 1,
   "metadata": {},
   "outputs": [
    {
     "name": "stdout",
     "output_type": "stream",
     "text": [
      "Requirement already satisfied: pdf2docx in c:\\users\\motaz\\appdata\\local\\packages\\pythonsoftwarefoundation.python.3.10_qbz5n2kfra8p0\\localcache\\local-packages\\python310\\site-packages (0.5.8)\n",
      "Requirement already satisfied: python-docx>=0.8.10 in c:\\users\\motaz\\appdata\\local\\packages\\pythonsoftwarefoundation.python.3.10_qbz5n2kfra8p0\\localcache\\local-packages\\python310\\site-packages (from pdf2docx) (1.1.2)\n",
      "Requirement already satisfied: opencv-python-headless>=4.5 in c:\\users\\motaz\\appdata\\local\\packages\\pythonsoftwarefoundation.python.3.10_qbz5n2kfra8p0\\localcache\\local-packages\\python310\\site-packages (from pdf2docx) (4.10.0.84)\n",
      "Requirement already satisfied: fonttools>=4.24.0 in c:\\users\\motaz\\appdata\\local\\packages\\pythonsoftwarefoundation.python.3.10_qbz5n2kfra8p0\\localcache\\local-packages\\python310\\site-packages (from pdf2docx) (4.53.1)\n",
      "Requirement already satisfied: fire>=0.3.0 in c:\\users\\motaz\\appdata\\local\\packages\\pythonsoftwarefoundation.python.3.10_qbz5n2kfra8p0\\localcache\\local-packages\\python310\\site-packages (from pdf2docx) (0.6.0)\n",
      "Requirement already satisfied: numpy>=1.17.2 in c:\\users\\motaz\\appdata\\local\\packages\\pythonsoftwarefoundation.python.3.10_qbz5n2kfra8p0\\localcache\\local-packages\\python310\\site-packages (from pdf2docx) (2.1.1)\n",
      "Requirement already satisfied: PyMuPDF>=1.19.0 in c:\\users\\motaz\\appdata\\local\\packages\\pythonsoftwarefoundation.python.3.10_qbz5n2kfra8p0\\localcache\\local-packages\\python310\\site-packages (from pdf2docx) (1.24.10)\n",
      "Requirement already satisfied: six in c:\\users\\motaz\\appdata\\local\\packages\\pythonsoftwarefoundation.python.3.10_qbz5n2kfra8p0\\localcache\\local-packages\\python310\\site-packages (from fire>=0.3.0->pdf2docx) (1.16.0)\n",
      "Requirement already satisfied: termcolor in c:\\users\\motaz\\appdata\\local\\packages\\pythonsoftwarefoundation.python.3.10_qbz5n2kfra8p0\\localcache\\local-packages\\python310\\site-packages (from fire>=0.3.0->pdf2docx) (2.4.0)\n",
      "Requirement already satisfied: PyMuPDFb==1.24.10 in c:\\users\\motaz\\appdata\\local\\packages\\pythonsoftwarefoundation.python.3.10_qbz5n2kfra8p0\\localcache\\local-packages\\python310\\site-packages (from PyMuPDF>=1.19.0->pdf2docx) (1.24.10)\n",
      "Requirement already satisfied: lxml>=3.1.0 in c:\\users\\motaz\\appdata\\local\\packages\\pythonsoftwarefoundation.python.3.10_qbz5n2kfra8p0\\localcache\\local-packages\\python310\\site-packages (from python-docx>=0.8.10->pdf2docx) (4.9.2)\n",
      "Requirement already satisfied: typing-extensions>=4.9.0 in c:\\users\\motaz\\appdata\\local\\packages\\pythonsoftwarefoundation.python.3.10_qbz5n2kfra8p0\\localcache\\local-packages\\python310\\site-packages (from python-docx>=0.8.10->pdf2docx) (4.12.2)\n",
      "Note: you may need to restart the kernel to use updated packages.\n"
     ]
    },
    {
     "name": "stderr",
     "output_type": "stream",
     "text": [
      "\n",
      "[notice] A new release of pip is available: 23.0.1 -> 24.2\n",
      "[notice] To update, run: C:\\Users\\motaz\\AppData\\Local\\Microsoft\\WindowsApps\\PythonSoftwareFoundation.Python.3.10_qbz5n2kfra8p0\\python.exe -m pip install --upgrade pip\n"
     ]
    }
   ],
   "source": [
    "pip install pdf2docx"
   ]
  },
  {
   "cell_type": "code",
   "execution_count": 4,
   "metadata": {},
   "outputs": [
    {
     "name": "stdout",
     "output_type": "stream",
     "text": [
      "Overwriting app.py\n"
     ]
    }
   ],
   "source": [
    "%%writefile app.py\n",
    "import tkinter as tk\n",
    "from tkinter import filedialog, messagebox\n",
    "from pdf2docx import Converter\n",
    "\n",
    "# Function to convert PDF to Word\n",
    "def convert_pdf_to_word():\n",
    "    pdf_file = filedialog.askopenfilename(\n",
    "        title=\"Select PDF File\", filetypes=[(\"PDF files\", \"*.pdf\")]\n",
    "    )\n",
    "    if not pdf_file:\n",
    "        return\n",
    "\n",
    "    # Ask for save location for the output Word file\n",
    "    word_file = filedialog.asksaveasfilename(\n",
    "        defaultextension=\".docx\",\n",
    "        filetypes=[(\"Word documents\", \"*.docx\")],\n",
    "        title=\"Save as\",\n",
    "    )\n",
    "    if not word_file:\n",
    "        return\n",
    "\n",
    "    try:\n",
    "        # Convert PDF to Word\n",
    "        cv = Converter(pdf_file)\n",
    "        cv.convert(word_file, start=0, end=None)\n",
    "        cv.close()\n",
    "\n",
    "        messagebox.showinfo(\"Success\", \"PDF converted to Word successfully!\")\n",
    "    except Exception as e:\n",
    "        messagebox.showerror(\"Error\", f\"An error occurred: {str(e)}\")\n",
    "\n",
    "# Create the main window\n",
    "root = tk.Tk()\n",
    "root.title(\"PDF to Word Converter\")\n",
    "\n",
    "# Set window size\n",
    "root.geometry(\"300x150\")\n",
    "\n",
    "# Create a label\n",
    "label = tk.Label(root, text=\"Convert PDF to Word\", font=(14))\n",
    "label.pack()\n",
    "\n",
    "# Create a button for file selection\n",
    "button = tk.Button(root, text=\"Select PDF and Convert\", command=convert_pdf_to_word)\n",
    "button.pack()\n",
    "\n",
    "# Start the GUI loop\n",
    "root.mainloop()\n"
   ]
  },
  {
   "cell_type": "code",
   "execution_count": 5,
   "metadata": {},
   "outputs": [],
   "source": [
    "! python app.py"
   ]
  },
  {
   "cell_type": "code",
   "execution_count": null,
   "metadata": {},
   "outputs": [],
   "source": []
  }
 ],
 "metadata": {
  "kernelspec": {
   "display_name": "Python 3",
   "language": "python",
   "name": "python3"
  },
  "language_info": {
   "codemirror_mode": {
    "name": "ipython",
    "version": 3
   },
   "file_extension": ".py",
   "mimetype": "text/x-python",
   "name": "python",
   "nbconvert_exporter": "python",
   "pygments_lexer": "ipython3",
   "version": "3.10.11"
  }
 },
 "nbformat": 4,
 "nbformat_minor": 2
}
